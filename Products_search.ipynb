{
 "cells": [
  {
   "cell_type": "markdown",
   "metadata": {
    "id": "wdhVq2FNGXvM"
   },
   "source": [
    "#### create a new conda env before running this notebook"
   ]
  },
  {
   "cell_type": "code",
   "execution_count": 4,
   "metadata": {
    "colab": {
     "base_uri": "https://localhost:8080/",
     "height": 1000
    },
    "id": "ez2L4f1WI6mr",
    "outputId": "23e395d5-ffa0-4956-f2aa-1cacea8aed84"
   },
   "outputs": [],
   "source": [
    "# !wget https://raw.githubusercontent.com/jina-ai/workshops/main/memes/requirements.txt -qN\n",
    "# !pip install -r requirements.txt\n",
    "# !pip install pandas \n",
    "# !pip install sentence-transformers"
   ]
  },
  {
   "cell_type": "code",
   "execution_count": 5,
   "metadata": {
    "id": "Jg_WBn9CKjlz"
   },
   "outputs": [],
   "source": [
    "from jina import Document, DocumentArray\n",
    "import pandas as pd \n",
    "import random"
   ]
  },
  {
   "cell_type": "code",
   "execution_count": 23,
   "metadata": {
    "id": "FQSkJBsALvkm"
   },
   "outputs": [],
   "source": [
    "def prep_docs(input_file : str, num_size = -1, shuffle=True):\n",
    "    docs = DocumentArray()\n",
    "    error = []\n",
    "    print(f\"Processing {input_file}\")\n",
    "\n",
    "    df = pd.read_csv(input_file)\n",
    "    df = df.dropna().drop_duplicates()\n",
    "    n = df.shape[0]\n",
    "    \n",
    "\n",
    "    if shuffle:\n",
    "        df = df.sample(frac = 1)\n",
    "    \n",
    "    num_size = n if num_size == -1 else num_size\n",
    "\n",
    "    for idx in range(n):\n",
    "        pname = df.iloc[idx, 0]\n",
    "        pcate = df.iloc[idx, 1]\n",
    "        pdesc = df.iloc[idx, 2]\n",
    "        doctext = pname.replace('\\n',' ').strip()\n",
    "        if len(doctext) > 0:\n",
    "            doc = Document(text=doctext)\n",
    "            doc.tags['category'] = pcate.replace('\\n',' ').strip()\n",
    "            doc.tags['description'] = pdesc.replace('\\n',' ').strip()\n",
    "            docs.extend([doc])\n",
    "\n",
    "    return docs[:num_size]"
   ]
  },
  {
   "cell_type": "markdown",
   "metadata": {},
   "source": [
    "#### download the all_products.csv file from github"
   ]
  },
  {
   "cell_type": "code",
   "execution_count": 8,
   "metadata": {},
   "outputs": [],
   "source": [
    "# !wget https://raw.githubusercontent.com/tactlabs/amazon-product-collector/main/amazon_crawler/all_products.csv?token=AOTFQFABYZQLFN54AOQIABTBKAGDM -qN"
   ]
  },
  {
   "cell_type": "markdown",
   "metadata": {},
   "source": [
    "#### Trying for only 1000 products"
   ]
  },
  {
   "cell_type": "code",
   "execution_count": 25,
   "metadata": {
    "colab": {
     "base_uri": "https://localhost:8080/"
    },
    "id": "6mZdveINO0hM",
    "outputId": "58474882-b0b7-4f9e-ac83-1a8849fb253b"
   },
   "outputs": [
    {
     "name": "stdout",
     "output_type": "stream",
     "text": [
      "Processing all_products.csv\n"
     ]
    },
    {
     "data": {
      "text/plain": [
       "<jina.types.arrays.document.DocumentArray length=1000 at 140188630323408>"
      ]
     },
     "execution_count": 25,
     "metadata": {},
     "output_type": "execute_result"
    }
   ],
   "source": [
    "docs = prep_docs(input_file= \"all_products.csv\", num_size = 1000, shuffle=True)\n",
    "docs"
   ]
  },
  {
   "cell_type": "code",
   "execution_count": 27,
   "metadata": {
    "colab": {
     "base_uri": "https://localhost:8080/",
     "height": 120
    },
    "id": "hOXsaPO93ZGo",
    "outputId": "82788d22-ef92-41fc-9806-ec5e6db7b153"
   },
   "outputs": [
    {
     "data": {
      "text/plain": [
       "(\"Carter's Baby Boys 2-Pack Pull-On Pants (Black/Heather, 12 Months)\",\n",
       " 'clothing')"
      ]
     },
     "execution_count": 27,
     "metadata": {},
     "output_type": "execute_result"
    }
   ],
   "source": [
    "docs[0].text, docs[0].tags['category']"
   ]
  },
  {
   "cell_type": "code",
   "execution_count": 30,
   "metadata": {
    "id": "tdCHU2fsBjCf"
   },
   "outputs": [],
   "source": [
    "# # [len(i.text) for i in docs ]\n",
    "for i in docs:\n",
    "    if len(i.text) == 0:\n",
    "        print(i.text)"
   ]
  },
  {
   "cell_type": "code",
   "execution_count": 31,
   "metadata": {
    "id": "RgBJYAJLPl9l"
   },
   "outputs": [],
   "source": [
    "model = \"sentence-transformers/paraphrase-distilroberta-base-v1\" # Any model from Huggingface"
   ]
  },
  {
   "cell_type": "code",
   "execution_count": 34,
   "metadata": {
    "id": "NFfmdaKpSjH0"
   },
   "outputs": [],
   "source": [
    "from jina import Flow"
   ]
  },
  {
   "cell_type": "code",
   "execution_count": 35,
   "metadata": {
    "id": "BtPxSrjzSlHy"
   },
   "outputs": [],
   "source": [
    "flow = (\n",
    "    Flow()\n",
    "    .add(\n",
    "        name=\"error_text_encoder\",\n",
    "        uses=\"jinahub://TransformerTorchEncoder\",\n",
    "        uses_with={\"pretrained_model_name_or_path\": model},\n",
    "    )\n",
    "    .add(\n",
    "        name=\"error_text_indexer\",\n",
    "        uses='jinahub://SimpleIndexer',\n",
    "    )\n",
    ")\n"
   ]
  },
  {
   "cell_type": "code",
   "execution_count": 36,
   "metadata": {
    "colab": {
     "base_uri": "https://localhost:8080/",
     "height": 93
    },
    "id": "eQcNKouW3_Yn",
    "outputId": "f83f99db-7dd6-4918-a4fa-b95c7fabbd0c"
   },
   "outputs": [
    {
     "data": {
      "text/html": [
       "<img src=\"https://mermaid.ink/svg/JSV7aW5pdDogeyd0aGVtZSc6ICdiYXNlJywgJ3RoZW1lVmFyaWFibGVzJzogeyAncHJpbWFyeUNvbG9yJzogJyMzMkM4Q0QnLCAnZWRnZUxhYmVsQmFja2dyb3VuZCc6JyNmZmYnLCAnY2x1c3RlckJrZyc6ICcjRkZDQzY2J319fSUlCmdyYXBoIExSCmdhdGV3YXkoImdhdGV3YXkiKTo6OkdBVEVXQVkgLS0+IGVycm9yX3RleHRfZW5jb2RlcigiZXJyb3JfdGV4dF9lbmNvZGVyPGJyPihqaW5haHViOi8vVHJhbnNmb3JtZXJUb3JjaEVuY29kZXIpIik6OjpQT0QKZXJyb3JfdGV4dF9lbmNvZGVyKCJlcnJvcl90ZXh0X2VuY29kZXI8YnI+KGppbmFodWI6Ly9UcmFuc2Zvcm1lclRvcmNoRW5jb2RlcikiKTo6OlBPRCAtLT4gZXJyb3JfdGV4dF9pbmRleGVyKCJlcnJvcl90ZXh0X2luZGV4ZXI8YnI+KGppbmFodWI6Ly9TaW1wbGVJbmRleGVyKSIpOjo6UE9ECmVycm9yX3RleHRfaW5kZXhlcigiZXJyb3JfdGV4dF9pbmRleGVyPGJyPihqaW5haHViOi8vU2ltcGxlSW5kZXhlcikiKTo6OlBPRCAtLT4gZ2F0ZXdheV9FTkQoZ2F0ZXdheSk6OjpHQVRFV0FZCmNsYXNzRGVmIFBPRCBmaWxsOiMzMkM4Q0Qsc3Ryb2tlOiMwMDk5OTkKY2xhc3NEZWYgSU5TUEVDVCBmaWxsOiNmZjY2NjYsY29sb3I6I2ZmZgpjbGFzc0RlZiBKT0lOX0lOU1BFQ1QgZmlsbDojZmY2NjY2LGNvbG9yOiNmZmYKY2xhc3NEZWYgR0FURVdBWSBmaWxsOiM2RTcyNzgsY29sb3I6I2ZmZgpjbGFzc0RlZiBJTlNQRUNUX0FVWF9QQVNTIGZpbGw6I2ZmZixjb2xvcjojMDAwLHN0cm9rZS1kYXNoYXJyYXk6IDUgNQpjbGFzc0RlZiBwZWEgZmlsbDojMDA5OTk5LHN0cm9rZTojMUU2RTcz\"/>"
      ],
      "text/plain": [
       "<IPython.core.display.Image object>"
      ]
     },
     "metadata": {},
     "output_type": "display_data"
    }
   ],
   "source": [
    "flow"
   ]
  },
  {
   "cell_type": "code",
   "execution_count": 37,
   "metadata": {
    "id": "esMi9m-xGCR_"
   },
   "outputs": [],
   "source": [
    "# docs = docs[:10]"
   ]
  },
  {
   "cell_type": "code",
   "execution_count": 38,
   "metadata": {
    "id": "CHAcOsAcTjYT"
   },
   "outputs": [],
   "source": [
    "!rm -rf workspace # Remove workspace in case we've indexed stuff before"
   ]
  },
  {
   "cell_type": "code",
   "execution_count": 39,
   "metadata": {
    "colab": {
     "base_uri": "https://localhost:8080/",
     "height": 170,
     "referenced_widgets": [
      "f24a9ebca0b645bea53bbcd2ed6c2dcd",
      "d48c0b6f597e4fe29e9645f00e5d8da9",
      "bc4d38a8045041c2b5f798cef76d127b",
      "89948f675e98432cb134a30aec8c380f"
     ]
    },
    "id": "rFAQ-YKbS2X-",
    "outputId": "55fa0b7f-2c6f-416a-d663-c7e7dd888302"
   },
   "outputs": [
    {
     "data": {
      "application/vnd.jupyter.widget-view+json": {
       "model_id": "",
       "version_major": 2,
       "version_minor": 0
      },
      "text/plain": [
       "Output()"
      ]
     },
     "metadata": {},
     "output_type": "display_data"
    },
    {
     "data": {
      "text/html": [
       "<pre style=\"white-space:pre;overflow-x:auto;line-height:normal;font-family:Menlo,'DejaVu Sans Mono',consolas,'Courier New',monospace\"></pre>\n"
      ],
      "text/plain": []
     },
     "metadata": {},
     "output_type": "display_data"
    },
    {
     "data": {
      "application/vnd.jupyter.widget-view+json": {
       "model_id": "",
       "version_major": 2,
       "version_minor": 0
      },
      "text/plain": [
       "Output()"
      ]
     },
     "metadata": {},
     "output_type": "display_data"
    },
    {
     "data": {
      "text/html": [
       "<pre style=\"white-space:pre;overflow-x:auto;line-height:normal;font-family:Menlo,'DejaVu Sans Mono',consolas,'Courier New',monospace\"></pre>\n"
      ],
      "text/plain": []
     },
     "metadata": {},
     "output_type": "display_data"
    },
    {
     "data": {
      "application/vnd.jupyter.widget-view+json": {
       "model_id": "",
       "version_major": 2,
       "version_minor": 0
      },
      "text/plain": [
       "Output()"
      ]
     },
     "metadata": {},
     "output_type": "display_data"
    },
    {
     "data": {
      "text/html": [
       "<pre style=\"white-space:pre;overflow-x:auto;line-height:normal;font-family:Menlo,'DejaVu Sans Mono',consolas,'Courier New',monospace\"></pre>\n"
      ],
      "text/plain": []
     },
     "metadata": {},
     "output_type": "display_data"
    },
    {
     "data": {
      "application/vnd.jupyter.widget-view+json": {
       "model_id": "",
       "version_major": 2,
       "version_minor": 0
      },
      "text/plain": [
       "Output()"
      ]
     },
     "metadata": {},
     "output_type": "display_data"
    },
    {
     "name": "stdout",
     "output_type": "stream",
     "text": [
      "\n"
     ]
    },
    {
     "data": {
      "text/html": [
       "<pre style=\"white-space:pre;overflow-x:auto;line-height:normal;font-family:Menlo,'DejaVu Sans Mono',consolas,'Courier New',monospace\"></pre>\n"
      ],
      "text/plain": []
     },
     "metadata": {},
     "output_type": "display_data"
    },
    {
     "data": {
      "application/vnd.jupyter.widget-view+json": {
       "model_id": "534dcabe4c0a42bc8061cec5972ddeb5",
       "version_major": 2,
       "version_minor": 0
      },
      "text/plain": [
       "HBox(children=(FloatProgress(value=0.0, description='Downloading', max=798293.0, style=ProgressStyle(descripti…"
      ]
     },
     "metadata": {},
     "output_type": "display_data"
    },
    {
     "name": "stdout",
     "output_type": "stream",
     "text": [
      "\n"
     ]
    },
    {
     "data": {
      "application/vnd.jupyter.widget-view+json": {
       "model_id": "b030089be57044d9a244b5b2cc577334",
       "version_major": 2,
       "version_minor": 0
      },
      "text/plain": [
       "HBox(children=(FloatProgress(value=0.0, description='Downloading', max=456356.0, style=ProgressStyle(descripti…"
      ]
     },
     "metadata": {},
     "output_type": "display_data"
    },
    {
     "name": "stdout",
     "output_type": "stream",
     "text": [
      "\n"
     ]
    },
    {
     "data": {
      "application/vnd.jupyter.widget-view+json": {
       "model_id": "34f40b152861491d99ea1986c9242caa",
       "version_major": 2,
       "version_minor": 0
      },
      "text/plain": [
       "HBox(children=(FloatProgress(value=0.0, description='Downloading', max=1355881.0, style=ProgressStyle(descript…"
      ]
     },
     "metadata": {},
     "output_type": "display_data"
    },
    {
     "name": "stdout",
     "output_type": "stream",
     "text": [
      "\n"
     ]
    },
    {
     "data": {
      "application/vnd.jupyter.widget-view+json": {
       "model_id": "a8314f89f3e94544833106efe8cc78ec",
       "version_major": 2,
       "version_minor": 0
      },
      "text/plain": [
       "HBox(children=(FloatProgress(value=0.0, description='Downloading', max=239.0, style=ProgressStyle(description_…"
      ]
     },
     "metadata": {},
     "output_type": "display_data"
    },
    {
     "name": "stdout",
     "output_type": "stream",
     "text": [
      "\n"
     ]
    },
    {
     "data": {
      "application/vnd.jupyter.widget-view+json": {
       "model_id": "ba7a2f9d337946a4b20cecf720569832",
       "version_major": 2,
       "version_minor": 0
      },
      "text/plain": [
       "HBox(children=(FloatProgress(value=0.0, description='Downloading', max=1352.0, style=ProgressStyle(description…"
      ]
     },
     "metadata": {},
     "output_type": "display_data"
    },
    {
     "name": "stdout",
     "output_type": "stream",
     "text": [
      "\n"
     ]
    },
    {
     "data": {
      "application/vnd.jupyter.widget-view+json": {
       "model_id": "3c7f72171e954a1d8bdd145af0b1f5e3",
       "version_major": 2,
       "version_minor": 0
      },
      "text/plain": [
       "HBox(children=(FloatProgress(value=0.0, description='Downloading', max=328515953.0, style=ProgressStyle(descri…"
      ]
     },
     "metadata": {},
     "output_type": "display_data"
    },
    {
     "name": "stdout",
     "output_type": "stream",
     "text": [
      "\n",
      "\u001b[32merror_text_encoder@5462[L]:ready and listening\u001b[0m\n",
      "\u001b[32merror_text_indexer@5462[L]:ready and listening\u001b[0m\n",
      "\u001b[32m        gateway@5462[L]:ready and listening\u001b[0m\n",
      "           Flow@5462[I]:🎉 Flow is ready to use!\n",
      "\t🔗 Protocol: \t\t\u001b[1mGRPC\u001b[0m\n",
      "\t🏠 Local access:\t\u001b[4m\u001b[36m0.0.0.0:46885\u001b[0m\n",
      "\t🔒 Private network:\t\u001b[4m\u001b[36m192.168.1.42:46885\u001b[0m\u001b[0m\n"
     ]
    }
   ],
   "source": [
    "with flow:\n",
    "    flow.index(\n",
    "        inputs=docs,\n",
    "  )"
   ]
  },
  {
   "cell_type": "code",
   "execution_count": 40,
   "metadata": {
    "colab": {
     "base_uri": "https://localhost:8080/",
     "height": 181
    },
    "id": "ng45pcxtFlQ7",
    "outputId": "4d0f9e7a-a9aa-458b-9ee5-eca50f95695d"
   },
   "outputs": [
    {
     "data": {
      "text/html": [
       "<img src=\"https://mermaid.ink/svg/JSV7aW5pdDogeyd0aGVtZSc6ICdiYXNlJywgJ3RoZW1lVmFyaWFibGVzJzogeyAncHJpbWFyeUNvbG9yJzogJyMzMkM4Q0QnLCAnZWRnZUxhYmVsQmFja2dyb3VuZCc6JyNmZmYnLCAnY2x1c3RlckJrZyc6ICcjRkZDQzY2J319fSUlCmdyYXBoIExSCmdhdGV3YXkoImdhdGV3YXkiKTo6OkdBVEVXQVkgLS0+IGVycm9yX3RleHRfZW5jb2RlcigiZXJyb3JfdGV4dF9lbmNvZGVyPGJyPigvaG9tZS9qYWFiaXIvLmppbmEvaHViLXBhY2thZ2VzL3U5cHFzOGViL2NvbmZpZy55bWwpIik6OjpQT0QKZXJyb3JfdGV4dF9lbmNvZGVyKCJlcnJvcl90ZXh0X2VuY29kZXI8YnI+KC9ob21lL2phYWJpci8uamluYS9odWItcGFja2FnZXMvdTlwcXM4ZWIvY29uZmlnLnltbCkiKTo6OlBPRCAtLT4gZXJyb3JfdGV4dF9pbmRleGVyKCJlcnJvcl90ZXh0X2luZGV4ZXI8YnI+KC9ob21lL2phYWJpci8uamluYS9odWItcGFja2FnZXMvemIzOHhsdDQvY29uZmlnLnltbCkiKTo6OlBPRAplcnJvcl90ZXh0X2luZGV4ZXIoImVycm9yX3RleHRfaW5kZXhlcjxicj4oL2hvbWUvamFhYmlyLy5qaW5hL2h1Yi1wYWNrYWdlcy96YjM4eGx0NC9jb25maWcueW1sKSIpOjo6UE9EIC0uLT4gaW5zcGVjdHt7aW5zcGVjdH19Ojo6SU5TUEVDVAplcnJvcl90ZXh0X2luZGV4ZXIoImVycm9yX3RleHRfaW5kZXhlcjxicj4oL2hvbWUvamFhYmlyLy5qaW5hL2h1Yi1wYWNrYWdlcy96YjM4eGx0NC9jb25maWcueW1sKSIpOjo6UE9EIC0tPiBfYXV4X2luc3BlY3QoIl9hdXhfaW5zcGVjdDxicj4oQmFzZUV4ZWN1dG9yKSIpOjo6SU5TUEVDVF9BVVhfUEFTUwpfYXV4X2luc3BlY3QoIl9hdXhfaW5zcGVjdDxicj4oQmFzZUV4ZWN1dG9yKSIpOjo6SU5TUEVDVF9BVVhfUEFTUyAtLT4gZ2F0aGVyX2luc3BlY3R7e2dhdGhlcl9pbnNwZWN0fX06OjpKT0lOX0lOU1BFQ1QKaW5zcGVjdHt7aW5zcGVjdH19Ojo6SU5TUEVDVCAtLi0+IGdhdGhlcl9pbnNwZWN0e3tnYXRoZXJfaW5zcGVjdH19Ojo6Sk9JTl9JTlNQRUNUCmdhdGhlcl9pbnNwZWN0e3tnYXRoZXJfaW5zcGVjdH19Ojo6Sk9JTl9JTlNQRUNUIC0tPiBnYXRld2F5X0VORChnYXRld2F5KTo6OkdBVEVXQVkKY2xhc3NEZWYgUE9EIGZpbGw6IzMyQzhDRCxzdHJva2U6IzAwOTk5OQpjbGFzc0RlZiBJTlNQRUNUIGZpbGw6I2ZmNjY2Nixjb2xvcjojZmZmCmNsYXNzRGVmIEpPSU5fSU5TUEVDVCBmaWxsOiNmZjY2NjYsY29sb3I6I2ZmZgpjbGFzc0RlZiBHQVRFV0FZIGZpbGw6IzZFNzI3OCxjb2xvcjojZmZmCmNsYXNzRGVmIElOU1BFQ1RfQVVYX1BBU1MgZmlsbDojZmZmLGNvbG9yOiMwMDAsc3Ryb2tlLWRhc2hhcnJheTogNSA1CmNsYXNzRGVmIHBlYSBmaWxsOiMwMDk5OTksc3Ryb2tlOiMxRTZFNzM=\"/>"
      ],
      "text/plain": [
       "<IPython.core.display.Image object>"
      ]
     },
     "metadata": {},
     "output_type": "display_data"
    }
   ],
   "source": [
    "# dir(flow)\n",
    "flow.inspect()"
   ]
  },
  {
   "cell_type": "code",
   "execution_count": 41,
   "metadata": {
    "colab": {
     "base_uri": "https://localhost:8080/",
     "height": 120
    },
    "id": "IGwFfWYjerTt",
    "outputId": "417cbdf8-7680-4f1d-ca84-f185c32e14e3"
   },
   "outputs": [
    {
     "data": {
      "text/plain": [
       "\"Carter's Baby Boys 2-Pack Pull-On Pants (Black/Heather, 12 Months)\""
      ]
     },
     "execution_count": 41,
     "metadata": {},
     "output_type": "execute_result"
    }
   ],
   "source": [
    "docs[0].text"
   ]
  },
  {
   "cell_type": "code",
   "execution_count": 66,
   "metadata": {
    "id": "ope2ei5QkSr2"
   },
   "outputs": [],
   "source": [
    "query_doc = Document(text= 'boys')\n",
    "# query_doc = Document(text= docs[0].text)"
   ]
  },
  {
   "cell_type": "code",
   "execution_count": 67,
   "metadata": {
    "colab": {
     "base_uri": "https://localhost:8080/"
    },
    "id": "FXDzwcr9lZQg",
    "outputId": "ce6d1cc7-51c0-455e-f2ea-f62709af2b9c"
   },
   "outputs": [
    {
     "name": "stdout",
     "output_type": "stream",
     "text": [
      "\u001b[32merror_text_encoder@5462[L]:ready and listening\u001b[0m\n",
      "\u001b[32merror_text_indexer@5462[L]:ready and listening\u001b[0m\n",
      "\u001b[32m        gateway@5462[L]:ready and listening\u001b[0m\n",
      "           Flow@5462[I]:🎉 Flow is ready to use!\n",
      "\t🔗 Protocol: \t\t\u001b[1mGRPC\u001b[0m\n",
      "\t🏠 Local access:\t\u001b[4m\u001b[36m0.0.0.0:44337\u001b[0m\n",
      "\t🔒 Private network:\t\u001b[4m\u001b[36m192.168.1.42:44337\u001b[0m\u001b[0m\n"
     ]
    }
   ],
   "source": [
    "with flow:\n",
    "    response = flow.search(inputs=query_doc, return_results=True)"
   ]
  },
  {
   "cell_type": "code",
   "execution_count": 68,
   "metadata": {
    "id": "wuZ0AaytlfHr"
   },
   "outputs": [],
   "source": [
    "matches = response[0].docs[0].matches"
   ]
  },
  {
   "cell_type": "code",
   "execution_count": 69,
   "metadata": {
    "colab": {
     "base_uri": "https://localhost:8080/"
    },
    "id": "HBUA0deqlf1E",
    "outputId": "befdb1c5-d703-4a07-df28-1fe4e3061138"
   },
   "outputs": [
    {
     "data": {
      "text/plain": [
       "<jina.types.arrays.match.MatchArray length=20 at 140188581399232>"
      ]
     },
     "execution_count": 69,
     "metadata": {},
     "output_type": "execute_result"
    }
   ],
   "source": [
    "matches"
   ]
  },
  {
   "cell_type": "code",
   "execution_count": 70,
   "metadata": {
    "colab": {
     "base_uri": "https://localhost:8080/"
    },
    "id": "X6SANUbcopCu",
    "outputId": "9ff86005-a4b0-4717-c1e6-add12bd7cfaa"
   },
   "outputs": [
    {
     "name": "stdout",
     "output_type": "stream",
     "text": [
      "===== product number : 0 | product category : clothing =====\n",
      "Hanes Boys' P480\n",
      "\n",
      "===== product number : 1 | product category : footwear =====\n",
      "Under Armour Boys UA Highlight RM Jr. Football Cleats\n",
      "\n",
      "===== product number : 2 | product category : clothing =====\n",
      "adidas Boys Separates Training Track Jacket (Big Kids)\n",
      "\n",
      "===== product number : 3 | product category : footwear =====\n",
      "Nike Air Jordan Big Boys (8-20) Short-Sleeve Jumpman T-Shirt Jordan\n",
      "\n",
      "===== product number : 4 | product category : clothing =====\n",
      "The Children's Place Boys' Basic Jogger\n",
      "\n",
      "===== product number : 5 | product category : clothing =====\n",
      "Under Armour Boys Lenticular Shadow Logo Short Sleeve Tee\n",
      "\n",
      "===== product number : 6 | product category : clothing =====\n",
      "Southpole Boys' Big Jogger Pants in Basic Stretch Twill Fabric\n",
      "\n",
      "===== product number : 7 | product category : clothing =====\n",
      "Champion Boys Long Sleeve Classic Hooded Tee Shirt Kids Clothes\n",
      "\n",
      "===== product number : 8 | product category : clothing =====\n",
      "Under Armour Boys' Armour Fleece Pants\n",
      "\n",
      "===== product number : 9 | product category : clothing =====\n",
      "Under Armour Boys' Tech Gradient Wordmark Short-Sleeve T-Shirt\n",
      "\n",
      "====== product number : 10 | product category : toys =======\n",
      "FGTeeV - Funnel Boy Fun House Buildable Set (474 Pieces)\n",
      "\n",
      "==== product number : 11 | product category : clothing =====\n",
      "Simple Joys by Carter's Boys' 4-Piece Neutral Jacket, Bodysuit, and Pant Set\n",
      "\n",
      "====== product number : 12 | product category : food =======\n",
      "3 lb. Bags\n",
      "\n",
      "==== product number : 13 | product category : clothing =====\n",
      "Disney Donald Duck PJ PALS for Boys\n",
      "\n",
      "==== product number : 14 | product category : clothing =====\n",
      "adidas Men's Runnning Jackets Black - DY5826\n",
      "\n",
      "==== product number : 15 | product category : clothing =====\n",
      "Disney Boys 3-Pack T-Shirts: Wide Variety Includes Lion King, Cars, Mickey Mouse\n",
      "\n",
      "===== product number : 16 | product category : sports ======\n",
      "adidas Men's Tiro 19 Pants\n",
      "\n",
      "==== product number : 17 | product category : clothing =====\n",
      "adidas Boy's Parma 16 Shorts\n",
      "\n",
      "==== product number : 18 | product category : clothing =====\n",
      "Gerber Baby Boys' 4-Piece Sleep 'N Play, Onesies, Pant and Cap\n",
      "\n",
      "==== product number : 19 | product category : footwear =====\n",
      "Skechers Unisex-Child, S Lighs, Boys, Sport Lighted Sneaker\n",
      "\n"
     ]
    }
   ],
   "source": [
    "for ind, i in enumerate(matches):\n",
    "    print(f' product number : {ind} | product category : {i.tags[\"category\"]} '.center(60,'='))\n",
    "    print(i.text)\n",
    "    print()"
   ]
  }
 ],
 "metadata": {
  "accelerator": "GPU",
  "colab": {
   "collapsed_sections": [],
   "name": "Error Search.ipynb",
   "provenance": []
  },
  "kernelspec": {
   "display_name": "Python 3",
   "language": "python",
   "name": "python3"
  },
  "language_info": {
   "codemirror_mode": {
    "name": "ipython",
    "version": 3
   },
   "file_extension": ".py",
   "mimetype": "text/x-python",
   "name": "python",
   "nbconvert_exporter": "python",
   "pygments_lexer": "ipython3",
   "version": "3.8.8"
  },
  "widgets": {
   "application/vnd.jupyter.widget-state+json": {
    "89948f675e98432cb134a30aec8c380f": {
     "model_module": "@jupyter-widgets/base",
     "model_module_version": "1.2.0",
     "model_name": "LayoutModel",
     "state": {
      "_model_module": "@jupyter-widgets/base",
      "_model_module_version": "1.2.0",
      "_model_name": "LayoutModel",
      "_view_count": null,
      "_view_module": "@jupyter-widgets/base",
      "_view_module_version": "1.2.0",
      "_view_name": "LayoutView",
      "align_content": null,
      "align_items": null,
      "align_self": null,
      "border": null,
      "bottom": null,
      "display": null,
      "flex": null,
      "flex_flow": null,
      "grid_area": null,
      "grid_auto_columns": null,
      "grid_auto_flow": null,
      "grid_auto_rows": null,
      "grid_column": null,
      "grid_gap": null,
      "grid_row": null,
      "grid_template_areas": null,
      "grid_template_columns": null,
      "grid_template_rows": null,
      "height": null,
      "justify_content": null,
      "justify_items": null,
      "left": null,
      "margin": null,
      "max_height": null,
      "max_width": null,
      "min_height": null,
      "min_width": null,
      "object_fit": null,
      "object_position": null,
      "order": null,
      "overflow": null,
      "overflow_x": null,
      "overflow_y": null,
      "padding": null,
      "right": null,
      "top": null,
      "visibility": null,
      "width": null
     }
    },
    "bc4d38a8045041c2b5f798cef76d127b": {
     "model_module": "@jupyter-widgets/output",
     "model_module_version": "1.0.0",
     "model_name": "OutputModel",
     "state": {
      "_dom_classes": [],
      "_model_module": "@jupyter-widgets/output",
      "_model_module_version": "1.0.0",
      "_model_name": "OutputModel",
      "_view_count": null,
      "_view_module": "@jupyter-widgets/output",
      "_view_module_version": "1.0.0",
      "_view_name": "OutputView",
      "layout": "IPY_MODEL_89948f675e98432cb134a30aec8c380f",
      "msg_id": "",
      "outputs": [
       {
        "data": {
         "text/html": "<pre style=\"white-space:pre;overflow-x:auto;line-height:normal;font-family:Menlo,'DejaVu Sans Mono',consolas,'Courier New',monospace\"><span style=\"color: #008000; text-decoration-color: #008000\">⠙</span> Fetching meta data of SimpleIndexer...\n</pre>\n",
         "text/plain": "\u001b[32m⠙\u001b[0m Fetching meta data of SimpleIndexer...\n"
        },
        "metadata": {},
        "output_type": "display_data"
       }
      ]
     }
    },
    "d48c0b6f597e4fe29e9645f00e5d8da9": {
     "model_module": "@jupyter-widgets/base",
     "model_module_version": "1.2.0",
     "model_name": "LayoutModel",
     "state": {
      "_model_module": "@jupyter-widgets/base",
      "_model_module_version": "1.2.0",
      "_model_name": "LayoutModel",
      "_view_count": null,
      "_view_module": "@jupyter-widgets/base",
      "_view_module_version": "1.2.0",
      "_view_name": "LayoutView",
      "align_content": null,
      "align_items": null,
      "align_self": null,
      "border": null,
      "bottom": null,
      "display": null,
      "flex": null,
      "flex_flow": null,
      "grid_area": null,
      "grid_auto_columns": null,
      "grid_auto_flow": null,
      "grid_auto_rows": null,
      "grid_column": null,
      "grid_gap": null,
      "grid_row": null,
      "grid_template_areas": null,
      "grid_template_columns": null,
      "grid_template_rows": null,
      "height": null,
      "justify_content": null,
      "justify_items": null,
      "left": null,
      "margin": null,
      "max_height": null,
      "max_width": null,
      "min_height": null,
      "min_width": null,
      "object_fit": null,
      "object_position": null,
      "order": null,
      "overflow": null,
      "overflow_x": null,
      "overflow_y": null,
      "padding": null,
      "right": null,
      "top": null,
      "visibility": null,
      "width": null
     }
    },
    "f24a9ebca0b645bea53bbcd2ed6c2dcd": {
     "model_module": "@jupyter-widgets/output",
     "model_module_version": "1.0.0",
     "model_name": "OutputModel",
     "state": {
      "_dom_classes": [],
      "_model_module": "@jupyter-widgets/output",
      "_model_module_version": "1.0.0",
      "_model_name": "OutputModel",
      "_view_count": null,
      "_view_module": "@jupyter-widgets/output",
      "_view_module_version": "1.0.0",
      "_view_name": "OutputView",
      "layout": "IPY_MODEL_d48c0b6f597e4fe29e9645f00e5d8da9",
      "msg_id": "",
      "outputs": [
       {
        "data": {
         "text/html": "<pre style=\"white-space:pre;overflow-x:auto;line-height:normal;font-family:Menlo,'DejaVu Sans Mono',consolas,'Courier New',monospace\"><span style=\"color: #008000; text-decoration-color: #008000\">⠏</span> Fetching meta data of TransformerTorchEncoder...\n</pre>\n",
         "text/plain": "\u001b[32m⠏\u001b[0m Fetching meta data of TransformerTorchEncoder...\n"
        },
        "metadata": {},
        "output_type": "display_data"
       }
      ]
     }
    }
   }
  }
 },
 "nbformat": 4,
 "nbformat_minor": 1
}
